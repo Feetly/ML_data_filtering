{
 "cells": [
  {
   "cell_type": "code",
   "execution_count": 12,
   "metadata": {},
   "outputs": [],
   "source": [
    "from tkinter import *\n",
    "import pandas\n",
    "import warnings\n",
    "\n",
    "warnings.filterwarnings(\"ignore\")\n",
    "\n",
    "data , names , err = None , None , None\n",
    "\n",
    "def refresh():\n",
    "    global data , names , err\n",
    "    try :\n",
    "        err = \"Processing yr Data\"\n",
    "        data , names = pandas.read_excel(\"Data.xlsx\",sheet_name='Sheet1',keep_default_na=False).dropna(how='any',axis=0).drop(columns=0) , pandas.read_excel(\"Data.xlsx\",sheet_name='Sheet2',keep_default_na=False).dropna(how='any',axis=0)\n",
    "        err = \"Data Readay to process\"\n",
    "    except : err = 'Check yr Excel file Data.xlsx exists and its format is unchanged. Run the Code again!'\n",
    "        \n",
    "refresh()"
   ]
  },
  {
   "cell_type": "code",
   "execution_count": 19,
   "metadata": {},
   "outputs": [],
   "source": [
    "root = Tk()\n",
    "root.title('MileCode ') \n",
    "#root.state('zoomed')\n",
    "root.configure(background='grey') #bg='#c293e3'\n",
    "var = StringVar(root)\n",
    "root.bind(\"<F11>\", lambda event: root.attributes(\"-fullscreen\",True))\n",
    "root.bind(\"<Escape>\", lambda event: root.attributes(\"-fullscreen\", False))\n",
    "\n",
    "Label(root, text=\"MileCode : \",font=('',40, ),fg='black',bg='white').grid(row=0,column=0,pady=20)\n",
    "\n",
    "Label(root, text=\"Availabe Options :- (Click to Choose)\",font=('',15, ),fg='red',bg='white').grid(row=1,column=0,sticky=W,pady=10,padx=15)\n",
    "\n",
    "Button(root,text=\"1) Refresh Code, if you have made any changes to excel \",command = refresh).grid(row=2,column=0,sticky=W,pady=5,padx=20)\n",
    "Entry(root, textvariable=var,bg='grey',fg='red').grid(row=2,column=1,pady=20)\n",
    "var.set(err)\n",
    "\n",
    "Button(root,text='2) Get current Price of Product ?').grid(row=3,column=0,sticky=W,pady=5,padx=20)\n",
    "Button(root,text=\"3) Get Price of Product at particular date ?\").grid(row=4,column=0,sticky=W,pady=5,padx=20)\n",
    "Button(root,text='4) Get all price details of Product ?').grid(row=5,column=0,sticky=W,pady=5,padx=20)\n",
    "Button(root,text='5) Get initial price of Product ?').grid(row=6,column=0,sticky=W,pady=5,padx=20)\n",
    "Button(root,text='6) Get current prices of all Product ?').grid(row=7,column=0,sticky=W,pady=5,padx=20)\n",
    "Button(root,text='7) Get prices of all Product at particular date ?').grid(row=8,column=0,sticky=W,pady=5,padx=20)\n",
    "Button(root,text='8) Get initial prices of all Product ?').grid(row=9,column=0,sticky=W,pady=5,padx=20)\n",
    "Button(root,text='9) Get Date at which a particular product price was changed to some new price ?').grid(row=10,column=0,sticky=W,pady=5,padx=20)\n",
    "Button(root,text='10) Exit ').grid(row=11,column=0,sticky=W,pady=5,padx=20)\n",
    "\n",
    "root.mainloop()\n"
   ]
  },
  {
   "cell_type": "code",
   "execution_count": null,
   "metadata": {},
   "outputs": [],
   "source": []
  }
 ],
 "metadata": {
  "kernelspec": {
   "display_name": "Python 3",
   "language": "python",
   "name": "python3"
  },
  "language_info": {
   "codemirror_mode": {
    "name": "ipython",
    "version": 3
   },
   "file_extension": ".py",
   "mimetype": "text/x-python",
   "name": "python",
   "nbconvert_exporter": "python",
   "pygments_lexer": "ipython3",
   "version": "3.7.3"
  }
 },
 "nbformat": 4,
 "nbformat_minor": 2
}
