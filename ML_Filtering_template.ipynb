{
 "cells": [
  {
   "cell_type": "markdown",
   "metadata": {
    "colab_type": "text",
    "id": "view-in-github"
   },
   "source": [
    "<a href=\"https://colab.research.google.com/github/Feetly/ML/blob/master/ML.ipynb\" target=\"_parent\"><img src=\"https://colab.research.google.com/assets/colab-badge.svg\" alt=\"Open In Colab\"/></a>"
   ]
  },
  {
   "cell_type": "markdown",
   "metadata": {
    "colab_type": "text",
    "id": "Wr7iIOvXuDE7"
   },
   "source": [
    "# **# Importing the libraries**"
   ]
  },
  {
   "cell_type": "code",
   "execution_count": 0,
   "metadata": {
    "cellView": "both",
    "colab": {},
    "colab_type": "code",
    "id": "50nxqa50uMSd"
   },
   "outputs": [],
   "source": [
    "import numpy as np\n",
    "import matplotlib.pyplot as plt\n",
    "import pandas as pd\n",
    "%matplotlib inline"
   ]
  },
  {
   "cell_type": "markdown",
   "metadata": {
    "colab_type": "text",
    "id": "iZTEStW5u8b7"
   },
   "source": [
    "# **# Importing the dataset**"
   ]
  },
  {
   "cell_type": "code",
   "execution_count": 0,
   "metadata": {
    "colab": {},
    "colab_type": "code",
    "id": "LalgRLbSu4xy"
   },
   "outputs": [],
   "source": [
    "\"\"\"\n",
    "!wget --show-progress --continue -O /content/shakespeare.txt https://drive.google.com/file/d/1DEmBwF6FX94RVV3hf6z2ztbX6AMVxmRp/view?usp=sharing  #Any Link\n",
    "\n",
    "from google.colab import files   #Local machine\n",
    "uploaded = files.upload()\n",
    "\n",
    "df1 = pd.read_csv('copied_raw_GH_link') #Github\n",
    "\"\"\"\n",
    "from google.colab import files   #Local machine\n",
    "uploaded = files.upload()\n",
    "\n"
   ]
  },
  {
   "cell_type": "code",
   "execution_count": 0,
   "metadata": {
    "colab": {},
    "colab_type": "code",
    "id": "wCfLGDXF07Fn"
   },
   "outputs": [],
   "source": [
    "dataset = pd.read_csv('Position_Salaries.csv')\n",
    "X = dataset.iloc[:, 1:2].values\n",
    "y = dataset.iloc[:, 2].values"
   ]
  },
  {
   "cell_type": "markdown",
   "metadata": {
    "colab_type": "text",
    "id": "CmsMA_fV4HUi"
   },
   "source": [
    "# **Visulising the Data nd preparing it for ml**"
   ]
  },
  {
   "cell_type": "code",
   "execution_count": 0,
   "metadata": {
    "colab": {},
    "colab_type": "code",
    "id": "ZPmDcv3a4QAq"
   },
   "outputs": [],
   "source": [
    "# Using Seaborn and IPlotly to get heatmaps co-relations and other important graphs.\n",
    "# Pair Plot to Get full overview of data."
   ]
  },
  {
   "cell_type": "markdown",
   "metadata": {
    "colab_type": "text",
    "id": "bjdSpj3q30zZ"
   },
   "source": [
    "# **# Encoding categorical data nd Avoiding Dummy Variable Trap**"
   ]
  },
  {
   "cell_type": "code",
   "execution_count": 0,
   "metadata": {
    "colab": {},
    "colab_type": "code",
    "id": "p3zDzdKi38JJ"
   },
   "outputs": [],
   "source": [
    "from sklearn.preprocessing import LabelEncoder, OneHotEncoder\n",
    "labelencoder = LabelEncoder()\n",
    "X[:, 3] = labelencoder.fit_transform(X[:, 3])\n",
    "onehotencoder = OneHotEncoder(categorical_features = [3])\n",
    "X = onehotencoder.fit_transform(X).toarray()\n",
    "\n",
    "# Avoiding the Dummy Variable Trap\n",
    "X = X[:, 1:]\n"
   ]
  },
  {
   "cell_type": "markdown",
   "metadata": {
    "colab_type": "text",
    "id": "zyGxR-BczS95"
   },
   "source": [
    "# **# Splitting the dataset into the Training set and Test set**"
   ]
  },
  {
   "cell_type": "code",
   "execution_count": 0,
   "metadata": {
    "colab": {},
    "colab_type": "code",
    "id": "nExhu1JjzkU2"
   },
   "outputs": [],
   "source": [
    "from sklearn.model_selection import train_test_split\n",
    "X_train, X_test, y_train, y_test = train_test_split(X, y, test_size = 0.1, random_state = 69)"
   ]
  },
  {
   "cell_type": "markdown",
   "metadata": {
    "colab_type": "text",
    "id": "9286Vo-Zzt1y"
   },
   "source": [
    "# **# Feature Scaling**"
   ]
  },
  {
   "cell_type": "code",
   "execution_count": 0,
   "metadata": {
    "colab": {},
    "colab_type": "code",
    "id": "LB9NQTbOz0Q5"
   },
   "outputs": [],
   "source": [
    "from sklearn.preprocessing import StandardScaler\n",
    "sc_X = StandardScaler()\n",
    "X_train = sc_X.fit_transform(X_train)\n",
    "X_test = sc_X.transform(X_test)\n",
    "sc_y = StandardScaler()\n",
    "y_train = sc_y.fit_transform(y_train.reshape(-1,1))"
   ]
  },
  {
   "cell_type": "markdown",
   "metadata": {
    "colab_type": "text",
    "id": "rI3k93Te0CAL"
   },
   "source": [
    "# **# Fitting the Regression Model to the dataset**"
   ]
  },
  {
   "cell_type": "code",
   "execution_count": 0,
   "metadata": {
    "colab": {},
    "colab_type": "code",
    "id": "4S1uOO6CaRhy"
   },
   "outputs": [],
   "source": [
    "best = [0,0,0,0,0]"
   ]
  },
  {
   "cell_type": "markdown",
   "metadata": {
    "colab_type": "text",
    "id": "W5laH0Rq2K4Y"
   },
   "source": [
    "**# Simple Linear Regression**"
   ]
  },
  {
   "cell_type": "code",
   "execution_count": 0,
   "metadata": {
    "colab": {},
    "colab_type": "code",
    "id": "L1sbYNSd0Gdb"
   },
   "outputs": [],
   "source": [
    "# No Scaling Needed\n",
    "from sklearn.linear_model import LinearRegression\n",
    "regressor = LinearRegression()\n",
    "regressor.fit(X_train, y_train)\n",
    "best[0]=regressor.rsquared_adj"
   ]
  },
  {
   "cell_type": "markdown",
   "metadata": {
    "colab_type": "text",
    "id": "iDDKmHro2dAC"
   },
   "source": [
    "**# Multiple Linear Regression**"
   ]
  },
  {
   "cell_type": "code",
   "execution_count": 0,
   "metadata": {
    "colab": {},
    "colab_type": "code",
    "id": "zwuuW_3o4b1H"
   },
   "outputs": [],
   "source": [
    "# Same as SLR but we cant visualise results but can execute same as SLR\n",
    "# No Scaling\n",
    "# Same code , prepare, train , fit nd predict\n",
    "best[0]=regressor.rsquared_adj"
   ]
  },
  {
   "cell_type": "markdown",
   "metadata": {
    "colab_type": "text",
    "id": "dFYZulQW46_O"
   },
   "source": [
    "**# Polynomial Regression**"
   ]
  },
  {
   "cell_type": "code",
   "execution_count": 0,
   "metadata": {
    "colab": {},
    "colab_type": "code",
    "id": "M4KPjqEv5CBJ"
   },
   "outputs": [],
   "source": [
    "# No Scaling\n",
    "from sklearn.preprocessing import PolynomialFeatures\n",
    "regressor = PolynomialFeatures(degree = 4)\n",
    "X_train = regressor.fit_transform(X_train)\n",
    "X_test = regressor.fit_transform(X_test)\n",
    "regressor.fit(X_train, y_train)\n",
    "best[1]=regressor.rsquared_adj"
   ]
  },
  {
   "cell_type": "markdown",
   "metadata": {
    "colab_type": "text",
    "id": "uTLqrRtMB1l_"
   },
   "source": [
    "**# Support Vector Regression**"
   ]
  },
  {
   "cell_type": "code",
   "execution_count": 0,
   "metadata": {
    "colab": {},
    "colab_type": "code",
    "id": "g2BuBbigB0xc"
   },
   "outputs": [],
   "source": [
    "# Scaling\n",
    "from sklearn.svm import SVR\n",
    "regressor = SVR(kernel = 'rbf')\n",
    "regressor.fit(X, y)\n",
    "best[2]=regressor.rsquared_adj"
   ]
  },
  {
   "cell_type": "markdown",
   "metadata": {
    "colab_type": "text",
    "id": "8k-KV2cvDi8G"
   },
   "source": [
    "**# Decision Tree Regression**"
   ]
  },
  {
   "cell_type": "code",
   "execution_count": 0,
   "metadata": {
    "colab": {},
    "colab_type": "code",
    "id": "rHujvIx1D36B"
   },
   "outputs": [],
   "source": [
    "# No Scaling\n",
    "from sklearn.tree import DecisionTreeRegressor\n",
    "regressor = DecisionTreeRegressor(random_state = 69)\n",
    "regressor.fit(X, y)\n",
    "best[3]=regressor.rsquared_adj"
   ]
  },
  {
   "cell_type": "markdown",
   "metadata": {
    "colab_type": "text",
    "id": "rQ5f_-u1K27U"
   },
   "source": [
    "**# Random Forest Regression**"
   ]
  },
  {
   "cell_type": "code",
   "execution_count": 0,
   "metadata": {
    "colab": {},
    "colab_type": "code",
    "id": "WHr4Yf1NK81G"
   },
   "outputs": [],
   "source": [
    "from sklearn.ensemble import RandomForestRegressor\n",
    "regressor = RandomForestRegressor(n_estimators = 500, random_state = 69)\n",
    "regressor.fit(X, y)\n",
    "best[4]=regressor.rsquared_adj"
   ]
  },
  {
   "cell_type": "markdown",
   "metadata": {
    "colab_type": "text",
    "id": "vGrvCzJbaEIE"
   },
   "source": [
    "**# Getting Best Suitable Model**"
   ]
  },
  {
   "cell_type": "code",
   "execution_count": 0,
   "metadata": {
    "colab": {},
    "colab_type": "code",
    "id": "dUS7G9qVaIT9"
   },
   "outputs": [],
   "source": [
    "Model = idmin(best)"
   ]
  },
  {
   "cell_type": "markdown",
   "metadata": {
    "colab_type": "text",
    "id": "8CM5D4_f0HdB"
   },
   "source": [
    "# **# Predicting a new result**"
   ]
  },
  {
   "cell_type": "code",
   "execution_count": 0,
   "metadata": {
    "colab": {},
    "colab_type": "code",
    "id": "ps1pECGn0Nf8"
   },
   "outputs": [],
   "source": [
    "y_pred = regressor.predict(x_test)\n",
    "#y_pred = sc_y.inverse_transform(y_pred)\n",
    "\n",
    "print(y_pred)"
   ]
  },
  {
   "cell_type": "markdown",
   "metadata": {
    "colab_type": "text",
    "id": "XEey8-Ko0QC1"
   },
   "source": [
    "# **# Visualising the Regression results**"
   ]
  },
  {
   "cell_type": "markdown",
   "metadata": {
    "colab_type": "text",
    "id": "XfViHyZB28pS"
   },
   "source": [
    "**# Visualising the Training set results**"
   ]
  },
  {
   "cell_type": "code",
   "execution_count": 0,
   "metadata": {
    "colab": {},
    "colab_type": "code",
    "id": "Sp5JEpPI0XTs"
   },
   "outputs": [],
   "source": [
    "X_grid = np.arange(min(X_train), max(X_train), 0.01)\n",
    "X_grid = X_grid.reshape((len(X_grid), 1))\n",
    "plt.scatter(X_train, y_train, color = 'red')\n",
    "plt.plot(X_grid, regressor.predict(X_grid), color = 'blue')\n",
    "plt.title('Truth or Bluff (Regression Model)')\n",
    "plt.xlabel('Position level')\n",
    "plt.ylabel('Salary')\n",
    "plt.show()"
   ]
  },
  {
   "cell_type": "markdown",
   "metadata": {
    "colab_type": "text",
    "id": "aTEj2XUY3To1"
   },
   "source": [
    "**# Visualising the Test set results**"
   ]
  },
  {
   "cell_type": "code",
   "execution_count": 0,
   "metadata": {
    "colab": {},
    "colab_type": "code",
    "id": "R6pRIhEV3W4K"
   },
   "outputs": [],
   "source": [
    "X_grid = np.arange(min(X_train), max(X_train), 0.01)\n",
    "X_grid = X_grid.reshape((len(X_grid), 1))\n",
    "plt.scatter(X_test, y_test, color = 'red')\n",
    "plt.plot(X_grid, regressor.predict(X_grid), color = 'blue')\n",
    "plt.title('Truth or Bluff (Regression Model)')\n",
    "plt.xlabel('Position level')\n",
    "plt.ylabel('Salary')\n",
    "plt.show()"
   ]
  }
 ],
 "metadata": {
  "accelerator": "GPU",
  "colab": {
   "include_colab_link": true,
   "name": "ML.ipynb",
   "provenance": [],
   "version": "0.3.2"
  },
  "kernelspec": {
   "display_name": "Python 3",
   "language": "python",
   "name": "python3"
  },
  "language_info": {
   "codemirror_mode": {
    "name": "ipython",
    "version": 3
   },
   "file_extension": ".py",
   "mimetype": "text/x-python",
   "name": "python",
   "nbconvert_exporter": "python",
   "pygments_lexer": "ipython3",
   "version": "3.7.3"
  }
 },
 "nbformat": 4,
 "nbformat_minor": 1
}
